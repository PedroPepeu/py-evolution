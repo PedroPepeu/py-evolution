{
 "cells": [
  {
   "cell_type": "code",
   "execution_count": null,
   "metadata": {},
   "outputs": [],
   "source": [
    "class MyClass():\n",
    "    x = 5\n",
    "\n",
    "p1 = MyClass()\n",
    "print(p1.x)"
   ]
  },
  {
   "cell_type": "code",
   "execution_count": null,
   "metadata": {},
   "outputs": [],
   "source": [
    "class students:\n",
    "    def __init__(self, name, calvo):\n",
    "        self.name = name\n",
    "        self.calvo = calvo\n",
    "\n",
    "pp1 = person(\"Benedito\", \"yes\")\n",
    "\n",
    "print(pp1.name)\n",
    "print(pp1.calvo)"
   ]
  },
  {
   "cell_type": "code",
   "execution_count": null,
   "metadata": {},
   "outputs": [],
   "source": [
    "class books:\n",
    "    def __init__(self, number, gender):\n",
    "        self.number = number\n",
    "        self.gender = gender\n",
    "\n",
    "    def mybook(self):\n",
    "        print(\"This book is configured as \"+self.number+\"and it gender is: \"+self.gender)\n",
    "\n",
    "b1 = book(458135, \"romance\")\n",
    "b1 = mybook()"
   ]
  },
  {
   "cell_type": "code",
   "execution_count": null,
   "metadata": {},
   "outputs": [],
   "source": [
    "b1.gender = \"action\"\n",
    "print(mybook())"
   ]
  },
  {
   "cell_type": "code",
   "execution_count": null,
   "metadata": {},
   "outputs": [],
   "source": [
    "del b1.gender\n",
    "b1.gender = \"RPG\""
   ]
  },
  {
   "cell_type": "code",
   "execution_count": null,
   "metadata": {},
   "outputs": [],
   "source": [
    "#class definitions cannot be empty , but if needed, add pass\n",
    "class however:\n",
    "    pass"
   ]
  },
  {
   "cell_type": "code",
   "execution_count": null,
   "metadata": {},
   "outputs": [],
   "source": [
    "class desease:\n",
    "    def __init__(self,name, spread, danger):\n",
    "        self.name = name\n",
    "        self.spread = spread\n",
    "        self.danger = danger\n",
    "    \n",
    "    def printdata(Self):\n",
    "        print(self.name, self.spread, self.danger)\n",
    "    \n",
    "x = desease(\"Ebola\", \"fast\", \"high\")\n",
    "x.printdata()"
   ]
  },
  {
   "cell_type": "code",
   "execution_count": null,
   "metadata": {},
   "outputs": [],
   "source": [
    "# child class\n",
    "class subdesease(desease):\n",
    "    def __init__(self, name, spread, danger, year):\n",
    "        desease.__init__(self, name, spread, danger)\n",
    "        self.year = year\n",
    "\n",
    "\n",
    "y = subdesease(\"Ebola B-type\", \"slow\", \"World danger\", \"2022\")"
   ]
  }
 ],
 "metadata": {
  "language_info": {
   "name": "python"
  },
  "orig_nbformat": 4
 },
 "nbformat": 4,
 "nbformat_minor": 2
}
