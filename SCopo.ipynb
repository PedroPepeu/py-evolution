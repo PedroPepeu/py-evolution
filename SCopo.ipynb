{
 "cells": [
  {
   "cell_type": "code",
   "execution_count": null,
   "metadata": {},
   "outputs": [],
   "source": [
    "def myfunc():\n",
    "    x=300\n",
    "    print(x)\n",
    "\n",
    "myfunc()"
   ]
  },
  {
   "cell_type": "code",
   "execution_count": null,
   "metadata": {},
   "outputs": [],
   "source": [
    "def myfunc():\n",
    "    x = 300\n",
    "    def myinnerfunc():\n",
    "        print(x)\n",
    "    myinnerfunc()\n",
    "\n",
    "myfunc()"
   ]
  }
 ],
 "metadata": {
  "language_info": {
   "name": "python"
  },
  "orig_nbformat": 4
 },
 "nbformat": 4,
 "nbformat_minor": 2
}
